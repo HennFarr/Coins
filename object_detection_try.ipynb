{
 "cells": [
  {
   "cell_type": "markdown",
   "metadata": {},
   "source": [
    "https://pyimagesearch.com/2020/06/22/turning-any-cnn-image-classifier-into-an-object-detector-with-keras-tensorflow-and-opencv/#pyis-cta-modal"
   ]
  },
  {
   "cell_type": "code",
   "execution_count": null,
   "metadata": {},
   "outputs": [],
   "source": [
    "#Für Colab\n",
    "#!git clone -b master https://github.com/HennFarr/Coins.git\n",
    "#!pip install keras_tuner\n",
    "#!pip install shap"
   ]
  },
  {
   "cell_type": "code",
   "execution_count": null,
   "metadata": {},
   "outputs": [],
   "source": [
    "import tensorflow as tf\n",
    "import tensorflow_datasets as tfds\n",
    "from tensorboard.plugins.hparams import api as hp\n",
    "from tensorflow import keras\n",
    "\n",
    "\n",
    "from keras import layers\n",
    "import keras_tuner as kt\n",
    "from keras.preprocessing.image import ImageDataGenerator, img_to_array,load_img\n",
    "from PIL import Image\n",
    "\n",
    "import matplotlib.pyplot as plt\n",
    "import matplotlib.gridspec as gridspec\n",
    "import numpy as np\n",
    "import os\n",
    "import shap\n",
    "\n",
    "import imutils\n",
    "import argparse\n",
    "import time\n",
    "import cv2\n",
    "from keras.applications.resnet import preprocess_input\n",
    "from keras.applications import imagenet_utils\n",
    "from imutils.object_detection import non_max_suppression"
   ]
  },
  {
   "cell_type": "code",
   "execution_count": null,
   "metadata": {},
   "outputs": [],
   "source": [
    "local_model_dir = \"Models/Tuned/tuned_model\"\n",
    "colab_model_dir = \"/content/Coins/Models/Tuned/tuned_model\"\n",
    "model = keras.models.load_model(local_model_dir)"
   ]
  },
  {
   "cell_type": "code",
   "execution_count": null,
   "metadata": {},
   "outputs": [],
   "source": [
    "def sliding_window(image, step, ws):\n",
    "\t# slide a window across the image\n",
    "\tfor y in range(0, image.shape[0] - ws[1], step):\n",
    "\t\tfor x in range(0, image.shape[1] - ws[0], step):\n",
    "\t\t\t# yield the current window\n",
    "\t\t\tyield (x, y, image[y:y + ws[1], x:x + ws[0]])"
   ]
  },
  {
   "cell_type": "code",
   "execution_count": null,
   "metadata": {},
   "outputs": [],
   "source": [
    "def image_pyramid(image, scale, minSize):\n",
    "\t# yield the original image\n",
    "\tyield image\n",
    "\t# keep looping over the image pyramid\n",
    "\twhile True:\n",
    "\t\t# compute the dimensions of the next image in the pyramid\n",
    "\t\tw = int(image.shape[1] / scale)\n",
    "\t\timage = imutils.resize(image, width=w)\n",
    "\t\t# if the resized image does not meet the supplied minimum\n",
    "\t\t# size, then stop constructing the pyramid\n",
    "\t\tif image.shape[0] < minSize[1] or image.shape[1] < minSize[0]:\n",
    "\t\t\tbreak\n",
    "\t\t# yield the next image in the pyramid\n",
    "\t\tyield image"
   ]
  },
  {
   "cell_type": "code",
   "execution_count": null,
   "metadata": {},
   "outputs": [],
   "source": [
    "# initialize variables used for the object detection procedure\n",
    "WIDTH = 500\n",
    "PYR_SCALE = 1.5\n",
    "WIN_STEP = 16\n",
    "ROI_SIZE = (100,100) #eval(args[\"size\"])\n",
    "INPUT_SIZE = (200, 200)"
   ]
  },
  {
   "cell_type": "code",
   "execution_count": null,
   "metadata": {},
   "outputs": [],
   "source": [
    "local_img=\"real_test_data/multi/IMG_20220620_105307.jpg\"\n",
    "colab_img=\"/content/Coins/real_test_data/multi/IMG_20220620_105307.jpg\""
   ]
  },
  {
   "cell_type": "code",
   "execution_count": null,
   "metadata": {},
   "outputs": [],
   "source": [
    "# load the input image from disk, resize it such that it has the\n",
    "# has the supplied width, and then grab its dimensions\n",
    "orig = cv2.imread(local_img) #args[\"image\"]\n",
    "orig = imutils.resize(orig, width=WIDTH)\n",
    "(H, W) = orig.shape[:2]"
   ]
  },
  {
   "cell_type": "code",
   "execution_count": null,
   "metadata": {},
   "outputs": [],
   "source": [
    "# initialize the image pyramid\n",
    "pyramid = image_pyramid(orig, scale=PYR_SCALE, minSize=ROI_SIZE)\n",
    "# initialize two lists, one to hold the ROIs generated from the image\n",
    "# pyramid and sliding window, and another list used to store the\n",
    "# (x, y)-coordinates of where the ROI was in the original image\n",
    "rois = []\n",
    "locs = []\n",
    "# time how long it takes to loop over the image pyramid layers and\n",
    "# sliding window locations\n",
    "start = time.time()"
   ]
  },
  {
   "cell_type": "code",
   "execution_count": null,
   "metadata": {},
   "outputs": [],
   "source": [
    "# loop over the image pyramid\n",
    "for image in pyramid:\n",
    "\t# determine the scale factor between the *original* image\n",
    "\t# dimensions and the *current* layer of the pyramid\n",
    "\tscale = W / float(image.shape[1])\n",
    "\t# for each layer of the image pyramid, loop over the sliding\n",
    "\t# window locations\n",
    "\tfor (x, y, roiOrig) in sliding_window(image, WIN_STEP, ROI_SIZE):\n",
    "\t\t# scale the (x, y)-coordinates of the ROI with respect to the\n",
    "\t\t# *original* image dimensions\n",
    "\t\tx = int(x * scale)\n",
    "\t\ty = int(y * scale)\n",
    "\t\tw = int(ROI_SIZE[0] * scale)\n",
    "\t\th = int(ROI_SIZE[1] * scale)\n",
    "\t\t# take the ROI and preprocess it so we can later classify\n",
    "\t\t# the region using Keras/TensorFlow\n",
    "\t\troi = cv2.resize(roiOrig, INPUT_SIZE)\n",
    "\t\troi = img_to_array(roi)\n",
    "\t\troi = preprocess_input(roi)\n",
    "\t\t# update our list of ROIs and associated coordinates\n",
    "\t\trois.append(roi)\n",
    "\t\tlocs.append((x, y, x + w, y + h))\n",
    "\t\t# check to see if we are visualizing each of the sliding\n",
    "\t\t# windows in the image pyramid\n",
    "\t\tif 0 > 0:\t\t\t#args[\"visualize\"] # Dauert ewig\n",
    "\t\t\t# clone the original image and then draw a bounding box\n",
    "\t\t\t# surrounding the current region\n",
    "\t\t\tclone = orig.copy()\n",
    "\t\t\tcv2.rectangle(clone, (x, y), (x + w, y + h),\n",
    "\t\t\t\t(0, 255, 0), 2)\n",
    "\t\t\t# show the visualization and current ROI\n",
    "\t\t\tcv2.imshow(\"Visualization\", clone)\n",
    "\t\t\tcv2.imshow(\"ROI\", roiOrig)\n",
    "\t\t\tcv2.waitKey(0)\t\t"
   ]
  },
  {
   "cell_type": "code",
   "execution_count": null,
   "metadata": {},
   "outputs": [],
   "source": [
    "# show how long it took to loop over the image pyramid layers and\n",
    "# sliding window locations\n",
    "end = time.time()\n",
    "print(\"[INFO] looping over pyramid/windows took {:.5f} seconds\".format(\n",
    "\tend - start))\n",
    "# convert the ROIs to a NumPy array\n",
    "rois = np.array(rois, dtype=\"float32\")\n",
    "# classify each of the proposal ROIs using ResNet and then show how\n",
    "# long the classifications took\n",
    "print(\"[INFO] classifying ROIs...\")\n",
    "start = time.time()\n",
    "preds = model.predict(rois)\n",
    "end = time.time()\n",
    "print(\"[INFO] classifying ROIs took {:.5f} seconds\".format(\n",
    "\tend - start))\n",
    "# decode the predictions and initialize a dictionary which maps class\n",
    "# labels (keys) to any ROIs associated with that label (values)\n",
    "#preds = imagenet_utils.decode_predictions(preds, top=1)\n",
    "labels = {}"
   ]
  },
  {
   "cell_type": "code",
   "execution_count": null,
   "metadata": {},
   "outputs": [],
   "source": [
    "class_names=[\"1c\", \"2c\", \"5c\", \"10c\", \"20c\", \"50c\", \"1e\", \"2e\"]\n",
    "preds2=[]\n",
    "for i in preds:\n",
    "    preds2.append([np.argmax(i), class_names[np.argmax(i)],list(i)])"
   ]
  },
  {
   "cell_type": "code",
   "execution_count": null,
   "metadata": {},
   "outputs": [],
   "source": [
    "# loop over the predictions\n",
    "for (i,p) in enumerate(preds2):\n",
    "\t# grab the prediction information for the current ROI\n",
    "\t(coinID, label, prob) = p\n",
    "\t# filter out weak detections by ensuring the predicted probability\n",
    "\t# is greater than the minimum probability\n",
    "\tif prob[coinID] >= 0.95:\t#args[\"min_conf\"]\n",
    "\t\t# grab the bounding box associated with the prediction and\n",
    "\t\t# convert the coordinates\n",
    "\t\tbox = locs[i]\n",
    "\t\t# grab the list of predictions for the label and add the\n",
    "\t\t# bounding box and probability to the list\n",
    "\t\tL = labels.get(label, [])\n",
    "\t\tL.append((box, prob[coinID]))\n",
    "\t\tlabels[label] = L"
   ]
  },
  {
   "cell_type": "code",
   "execution_count": null,
   "metadata": {},
   "outputs": [],
   "source": [
    "# loop over the labels for each of detected objects in the image\n",
    "for label in labels.keys():\n",
    "\t# clone the original image so that we can draw on it\n",
    "\tprint(\"[INFO] showing results for '{}'\".format(label))\n",
    "\tclone = orig.copy()\n",
    "\t# loop over all bounding boxes for the current label\n",
    "\tfor (box, prob) in labels[label]:\n",
    "\t\t# draw the bounding box on the image\n",
    "\t\t(startX, startY, endX, endY) = box\n",
    "\t\tcv2.rectangle(clone, (startX, startY), (endX, endY),\n",
    "\t\t\t(0, 255, 0), 2)\n",
    "\t# show the results *before* applying non-maxima suppression, then\n",
    "\t# clone the image again so we can display the results *after*\n",
    "\t# applying non-maxima suppression\n",
    "\tcv2.imshow(\"Before\", clone)\n",
    "\tclone = orig.copy()\n",
    "    # extract the bounding boxes and associated prediction\n",
    "\t# probabilities, then apply non-maxima suppression\n",
    "\tboxes = np.array([p[0] for p in labels[label]])\n",
    "\tproba = np.array([p[1] for p in labels[label]])\n",
    "\tboxes = non_max_suppression(boxes, proba)\n",
    "\t# loop over all bounding boxes that were kept after applying\n",
    "\t# non-maxima suppression\n",
    "\tfor (startX, startY, endX, endY) in boxes:\n",
    "\t\t# draw the bounding box and label on the image\n",
    "\t\tcv2.rectangle(clone, (startX, startY), (endX, endY),\n",
    "\t\t\t(0, 255, 0), 2)\n",
    "\t\ty = startY - 10 if startY - 10 > 10 else startY + 10\n",
    "\t\tcv2.putText(clone, label, (startX, y),\n",
    "\t\t\tcv2.FONT_HERSHEY_SIMPLEX, 0.45, (0, 255, 0), 2)\n",
    "\t# show the output after apply non-maxima suppression\n",
    "\tcv2.imshow(\"After\", clone)\n",
    "\tcv2.waitKey(0)"
   ]
  }
 ],
 "metadata": {
  "kernelspec": {
   "display_name": "Python 3.8.12 ('tf')",
   "language": "python",
   "name": "python3"
  },
  "language_info": {
   "codemirror_mode": {
    "name": "ipython",
    "version": 3
   },
   "file_extension": ".py",
   "mimetype": "text/x-python",
   "name": "python",
   "nbconvert_exporter": "python",
   "pygments_lexer": "ipython3",
   "version": "3.8.12"
  },
  "orig_nbformat": 4,
  "vscode": {
   "interpreter": {
    "hash": "693d33b25e137953b2d4b36c13a5352a3d9041db4a0407afc24fded26f75a3a2"
   }
  }
 },
 "nbformat": 4,
 "nbformat_minor": 2
}
