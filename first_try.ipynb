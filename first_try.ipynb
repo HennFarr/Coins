{
 "cells": [
  {
   "cell_type": "markdown",
   "metadata": {},
   "source": [
    "https://medium.com/analytics-vidhya/how-to-load-any-image-dataset-in-python-3bd2fa2cb43d"
   ]
  },
  {
   "cell_type": "markdown",
   "metadata": {},
   "source": [
    "Data From\n",
    "\n",
    "https://github.com/kaa/coins-dataset"
   ]
  },
  {
   "cell_type": "code",
   "execution_count": 1,
   "metadata": {},
   "outputs": [],
   "source": [
    "from tensorflow import keras\n",
    "from tensorflow.keras import layers\n",
    "from keras.preprocessing.image import ImageDataGenerator\n",
    "import matplotlib.pyplot as plt\n",
    "import numpy as np"
   ]
  },
  {
   "cell_type": "markdown",
   "metadata": {},
   "source": [
    "Create Train and Test Data\n",
    "\n",
    "explanation: https://machinelearningmastery.com/how-to-load-large-datasets-from-directories-for-deep-learning-with-keras/\n",
    "\n",
    "?Größe von Train und Test Data nachfragen?"
   ]
  },
  {
   "cell_type": "code",
   "execution_count": 2,
   "metadata": {},
   "outputs": [
    {
     "name": "stdout",
     "output_type": "stream",
     "text": [
      "Found 1291 images belonging to 8 classes.\n",
      "Found 1539 images belonging to 8 classes.\n",
      "(1291, 150, 150, 3)\n",
      "(1291, 8)\n",
      "(250, 150, 150, 3)\n",
      "(250, 8)\n",
      "[[[[119. 104.  85.]\n",
      "   [178. 169. 154.]\n",
      "   [164. 160. 157.]\n",
      "   ...\n",
      "   [225. 224. 219.]\n",
      "   [226. 225. 220.]\n",
      "   [222. 221. 216.]]\n",
      "\n",
      "  [[ 94.  79.  60.]\n",
      "   [163. 154. 139.]\n",
      "   [159. 155. 152.]\n",
      "   ...\n",
      "   [230. 229. 224.]\n",
      "   [229. 228. 223.]\n",
      "   [219. 218. 213.]]\n",
      "\n",
      "  [[ 93.  80.  63.]\n",
      "   [148. 138. 126.]\n",
      "   [167. 164. 159.]\n",
      "   ...\n",
      "   [222. 221. 216.]\n",
      "   [225. 224. 219.]\n",
      "   [222. 221. 216.]]\n",
      "\n",
      "  ...\n",
      "\n",
      "  [[222. 223. 218.]\n",
      "   [229. 230. 225.]\n",
      "   [220. 220. 220.]\n",
      "   ...\n",
      "   [191. 191. 193.]\n",
      "   [184. 184. 186.]\n",
      "   [177. 177. 177.]]\n",
      "\n",
      "  [[227. 228. 223.]\n",
      "   [223. 224. 219.]\n",
      "   [220. 220. 220.]\n",
      "   ...\n",
      "   [181. 180. 185.]\n",
      "   [162. 161. 166.]\n",
      "   [166. 166. 168.]]\n",
      "\n",
      "  [[226. 227. 222.]\n",
      "   [221. 222. 217.]\n",
      "   [221. 221. 221.]\n",
      "   ...\n",
      "   [171. 170. 176.]\n",
      "   [172. 171. 176.]\n",
      "   [155. 154. 159.]]]\n",
      "\n",
      "\n",
      " [[[206. 194. 178.]\n",
      "   [208. 196. 180.]\n",
      "   [210. 198. 182.]\n",
      "   ...\n",
      "   [210. 198. 184.]\n",
      "   [210. 198. 184.]\n",
      "   [210. 198. 184.]]\n",
      "\n",
      "  [[207. 195. 179.]\n",
      "   [208. 196. 180.]\n",
      "   [207. 195. 179.]\n",
      "   ...\n",
      "   [210. 198. 184.]\n",
      "   [211. 199. 185.]\n",
      "   [212. 200. 186.]]\n",
      "\n",
      "  [[208. 196. 180.]\n",
      "   [207. 195. 179.]\n",
      "   [205. 193. 177.]\n",
      "   ...\n",
      "   [210. 198. 184.]\n",
      "   [211. 199. 185.]\n",
      "   [211. 199. 185.]]\n",
      "\n",
      "  ...\n",
      "\n",
      "  [[204. 191. 175.]\n",
      "   [204. 191. 175.]\n",
      "   [205. 192. 176.]\n",
      "   ...\n",
      "   [ 81.  44.  25.]\n",
      "   [ 83.  46.  27.]\n",
      "   [ 89.  52.  33.]]\n",
      "\n",
      "  [[203. 190. 174.]\n",
      "   [205. 192. 176.]\n",
      "   [205. 192. 176.]\n",
      "   ...\n",
      "   [ 76.  39.  20.]\n",
      "   [ 79.  42.  23.]\n",
      "   [ 87.  50.  31.]]\n",
      "\n",
      "  [[202. 189. 173.]\n",
      "   [205. 192. 176.]\n",
      "   [205. 192. 176.]\n",
      "   ...\n",
      "   [ 78.  41.  22.]\n",
      "   [ 77.  40.  21.]\n",
      "   [ 79.  42.  23.]]]\n",
      "\n",
      "\n",
      " [[[119.  93.  36.]\n",
      "   [137. 108.  50.]\n",
      "   [136. 107.  49.]\n",
      "   ...\n",
      "   [219. 221. 220.]\n",
      "   [218. 220. 219.]\n",
      "   [218. 220. 219.]]\n",
      "\n",
      "  [[125.  96.  40.]\n",
      "   [138. 109.  51.]\n",
      "   [139. 110.  50.]\n",
      "   ...\n",
      "   [219. 221. 220.]\n",
      "   [219. 221. 220.]\n",
      "   [219. 221. 220.]]\n",
      "\n",
      "  [[121.  92.  34.]\n",
      "   [133. 104.  46.]\n",
      "   [143. 113.  53.]\n",
      "   ...\n",
      "   [218. 220. 219.]\n",
      "   [218. 220. 219.]\n",
      "   [218. 220. 219.]]\n",
      "\n",
      "  ...\n",
      "\n",
      "  [[222. 222. 220.]\n",
      "   [222. 222. 220.]\n",
      "   [220. 222. 219.]\n",
      "   ...\n",
      "   [120.  85.  43.]\n",
      "   [119.  84.  42.]\n",
      "   [122.  87.  45.]]\n",
      "\n",
      "  [[222. 223. 218.]\n",
      "   [220. 222. 217.]\n",
      "   [220. 222. 217.]\n",
      "   ...\n",
      "   [118.  83.  41.]\n",
      "   [119.  84.  42.]\n",
      "   [121.  86.  44.]]\n",
      "\n",
      "  [[221. 222. 217.]\n",
      "   [220. 222. 217.]\n",
      "   [220. 222. 217.]\n",
      "   ...\n",
      "   [117.  82.  40.]\n",
      "   [119.  84.  42.]\n",
      "   [120.  85.  43.]]]\n",
      "\n",
      "\n",
      " ...\n",
      "\n",
      "\n",
      " [[[201. 188. 169.]\n",
      "   [202. 189. 170.]\n",
      "   [201. 188. 169.]\n",
      "   ...\n",
      "   [204. 193. 173.]\n",
      "   [204. 193. 173.]\n",
      "   [204. 193. 173.]]\n",
      "\n",
      "  [[201. 188. 169.]\n",
      "   [202. 189. 170.]\n",
      "   [201. 188. 169.]\n",
      "   ...\n",
      "   [205. 194. 174.]\n",
      "   [204. 193. 173.]\n",
      "   [204. 193. 173.]]\n",
      "\n",
      "  [[200. 187. 168.]\n",
      "   [201. 188. 169.]\n",
      "   [201. 188. 169.]\n",
      "   ...\n",
      "   [204. 193. 171.]\n",
      "   [204. 193. 171.]\n",
      "   [203. 192. 170.]]\n",
      "\n",
      "  ...\n",
      "\n",
      "  [[198. 187. 167.]\n",
      "   [199. 188. 168.]\n",
      "   [200. 189. 169.]\n",
      "   ...\n",
      "   [199. 191. 172.]\n",
      "   [198. 190. 171.]\n",
      "   [197. 189. 170.]]\n",
      "\n",
      "  [[199. 188. 166.]\n",
      "   [199. 188. 166.]\n",
      "   [200. 189. 169.]\n",
      "   ...\n",
      "   [197. 190. 171.]\n",
      "   [197. 189. 170.]\n",
      "   [196. 188. 169.]]\n",
      "\n",
      "  [[198. 187. 165.]\n",
      "   [199. 188. 166.]\n",
      "   [199. 188. 166.]\n",
      "   ...\n",
      "   [196. 189. 170.]\n",
      "   [196. 188. 169.]\n",
      "   [196. 188. 169.]]]\n",
      "\n",
      "\n",
      " [[[218. 213. 207.]\n",
      "   [219. 214. 208.]\n",
      "   [220. 215. 209.]\n",
      "   ...\n",
      "   [150.  78.  30.]\n",
      "   [130.  59.  17.]\n",
      "   [135.  66.  25.]]\n",
      "\n",
      "  [[219. 214. 208.]\n",
      "   [219. 214. 208.]\n",
      "   [220. 215. 209.]\n",
      "   ...\n",
      "   [131.  69.  22.]\n",
      "   [158.  95.  51.]\n",
      "   [166. 103.  60.]]\n",
      "\n",
      "  [[219. 214. 208.]\n",
      "   [219. 214. 208.]\n",
      "   [219. 214. 208.]\n",
      "   ...\n",
      "   [175. 116.  74.]\n",
      "   [178. 119.  77.]\n",
      "   [170. 108.  69.]]\n",
      "\n",
      "  ...\n",
      "\n",
      "  [[160. 128.  69.]\n",
      "   [187. 157. 105.]\n",
      "   [209. 181. 141.]\n",
      "   ...\n",
      "   [223. 218. 214.]\n",
      "   [223. 218. 212.]\n",
      "   [223. 218. 212.]]\n",
      "\n",
      "  [[166. 134.  75.]\n",
      "   [188. 156. 105.]\n",
      "   [208. 180. 140.]\n",
      "   ...\n",
      "   [223. 218. 214.]\n",
      "   [223. 218. 214.]\n",
      "   [223. 218. 212.]]\n",
      "\n",
      "  [[167. 135.  76.]\n",
      "   [186. 154. 103.]\n",
      "   [210. 182. 142.]\n",
      "   ...\n",
      "   [223. 218. 214.]\n",
      "   [223. 218. 214.]\n",
      "   [223. 218. 214.]]]\n",
      "\n",
      "\n",
      " [[[140. 119.  64.]\n",
      "   [140. 119.  66.]\n",
      "   [141. 120.  67.]\n",
      "   ...\n",
      "   [212. 196. 171.]\n",
      "   [213. 197. 172.]\n",
      "   [214. 198. 173.]]\n",
      "\n",
      "  [[143. 122.  67.]\n",
      "   [138. 117.  64.]\n",
      "   [136. 115.  62.]\n",
      "   ...\n",
      "   [211. 195. 170.]\n",
      "   [212. 196. 171.]\n",
      "   [213. 197. 172.]]\n",
      "\n",
      "  [[139. 118.  63.]\n",
      "   [137. 116.  63.]\n",
      "   [138. 115.  63.]\n",
      "   ...\n",
      "   [213. 197. 172.]\n",
      "   [213. 197. 172.]\n",
      "   [214. 198. 173.]]\n",
      "\n",
      "  ...\n",
      "\n",
      "  [[201. 185. 151.]\n",
      "   [202. 186. 152.]\n",
      "   [203. 187. 153.]\n",
      "   ...\n",
      "   [221. 180.  74.]\n",
      "   [220. 179.  73.]\n",
      "   [210. 169.  63.]]\n",
      "\n",
      "  [[200. 184. 150.]\n",
      "   [201. 185. 151.]\n",
      "   [202. 186. 152.]\n",
      "   ...\n",
      "   [216. 175.  69.]\n",
      "   [214. 173.  67.]\n",
      "   [207. 166.  60.]]\n",
      "\n",
      "  [[200. 184. 150.]\n",
      "   [200. 184. 150.]\n",
      "   [201. 185. 151.]\n",
      "   ...\n",
      "   [210. 169.  63.]\n",
      "   [207. 166.  60.]\n",
      "   [207. 166.  60.]]]]\n"
     ]
    }
   ],
   "source": [
    "datagen=ImageDataGenerator()\n",
    "\n",
    "train_data=datagen.flow_from_directory('small data set/classified/train',target_size=(150,150),class_mode=\"categorical\", batch_size=1291)\n",
    "test_data=datagen.flow_from_directory('small data set/classified/test',target_size=(150,150),class_mode=\"categorical\", batch_size=250)\n",
    "train_images, train_labels = train_data.next()\n",
    "test_images, test_labels = test_data.next()\n",
    "\n",
    "print(train_images.shape)\n",
    "print(train_labels.shape)\n",
    "print(test_images.shape)\n",
    "print(test_labels.shape)\n",
    "\n",
    "print(train_images)"
   ]
  },
  {
   "cell_type": "code",
   "execution_count": null,
   "metadata": {},
   "outputs": [],
   "source": [
    "#train_images = train_images / 255\n",
    "#test_images = test_images / 255\n",
    "#\n",
    "#print(train_images)"
   ]
  },
  {
   "cell_type": "code",
   "execution_count": 3,
   "metadata": {},
   "outputs": [
    {
     "name": "stdout",
     "output_type": "stream",
     "text": [
      "(1291, 8)\n",
      "(250, 8)\n",
      "(1291,)\n",
      "(250,)\n"
     ]
    }
   ],
   "source": [
    "train_labels_shaped = np.array([])\n",
    "for i in train_labels:\n",
    "    i = np.where(i == 1)\n",
    "    train_labels_shaped = np.append([train_labels_shaped],[i])\n",
    "\n",
    "test_labels_shaped = np.array([])\n",
    "for i in test_labels:\n",
    "    i = np.where(i == 1)\n",
    "    test_labels_shaped = np.append([test_labels_shaped],[i])\n",
    "\n",
    "train_labels_shaped = train_labels_shaped.astype(\"uint8\")\n",
    "test_labels_shaped = test_labels_shaped.astype(\"uint8\")\n",
    "\n",
    "print(train_labels.shape)\n",
    "print(test_labels.shape)\n",
    "print(train_labels_shaped.shape)\n",
    "print(test_labels_shaped.shape)"
   ]
  },
  {
   "cell_type": "markdown",
   "metadata": {},
   "source": [
    "Welchen Shape sollten Modelle haben"
   ]
  },
  {
   "cell_type": "code",
   "execution_count": 4,
   "metadata": {},
   "outputs": [
    {
     "name": "stderr",
     "output_type": "stream",
     "text": [
      "Clipping input data to the valid range for imshow with RGB data ([0..1] for floats or [0..255] for integers).\n"
     ]
    },
    {
     "data": {
      "image/png": "[encoded data removed]",
      "text/plain": [
       "<Figure size 432x288 with 2 Axes>"
      ]
     },
     "metadata": {
      "needs_background": "light"
     },
     "output_type": "display_data"
    }
   ],
   "source": [
    "plt.figure()\n",
    "plt.imshow(train_images[0])\n",
    "plt.colorbar()\n",
    "plt.grid(False)\n",
    "plt.show()"
   ]
  },
  {
   "cell_type": "markdown",
   "metadata": {},
   "source": [
    "Modelbuilding"
   ]
  },
  {
   "cell_type": "markdown",
   "metadata": {},
   "source": [
    "Easy Model"
   ]
  },
  {
   "cell_type": "code",
   "execution_count": 5,
   "metadata": {},
   "outputs": [],
   "source": [
    "model = keras.Sequential([\n",
    "    keras.layers.Flatten(input_shape=(150, 150, 3)),\n",
    "    keras.layers.Dense(128, activation='relu'),\n",
    "    keras.layers.Dense(8, activation = 'softmax')\n",
    "])"
   ]
  },
  {
   "cell_type": "markdown",
   "metadata": {},
   "source": [
    "Complex Model (s. chapter08.1)"
   ]
  },
  {
   "cell_type": "code",
   "execution_count": null,
   "metadata": {},
   "outputs": [],
   "source": [
    "## provide  (image_height, image_width, image_channels)\n",
    "#inputs = keras.Input(shape=(150, 150, 3))\n",
    "#\n",
    "## use 32 filters, height and width of the 2D convolution window: use 3x3 as integer 3\n",
    "#x = layers.Conv2D(filters=32, kernel_size=3, activation=\"relu\")(inputs)\n",
    "#\n",
    "## extracting 2x2 windows from the input feature maps\n",
    "#x = layers.MaxPooling2D(pool_size=2)(x)\n",
    "#\n",
    "## use 64 filters with 3x3 window\n",
    "#x = layers.Conv2D(filters=64, kernel_size=3, activation=\"relu\")(x)\n",
    "#\n",
    "## use 2x2\n",
    "#x = layers.MaxPooling2D(pool_size=2)(x)\n",
    "#\n",
    "## use 128 filters\n",
    "#x = layers.Conv2D(filters=128, kernel_size=3, activation=\"relu\")(x)\n",
    "#\n",
    "## flatten the layers\n",
    "#x = layers.Flatten()(x)\n",
    "#\n",
    "## use softmax activation\n",
    "#outputs = layers.Dense(8, activation=\"softmax\")(x)\n",
    "#\n",
    "## define inputs and outputs\n",
    "#model = keras.Model(inputs=inputs, outputs=outputs)\n"
   ]
  },
  {
   "cell_type": "code",
   "execution_count": 6,
   "metadata": {},
   "outputs": [],
   "source": [
    "# use rmsprop\n",
    "model.compile(optimizer=\"adam\",\n",
    "             loss=\"categorical_crossentropy\",\n",
    "             metrics=[\"accuracy\"])"
   ]
  },
  {
   "cell_type": "markdown",
   "metadata": {},
   "source": [
    "Je nach Loss funktion unterschiedliche Shapes der Labels benötigt. Wieso und was ist am sinnvollsten"
   ]
  },
  {
   "cell_type": "markdown",
   "metadata": {},
   "source": [
    "Model training"
   ]
  },
  {
   "cell_type": "code",
   "execution_count": 7,
   "metadata": {},
   "outputs": [
    {
     "name": "stdout",
     "output_type": "stream",
     "text": [
      "Epoch 1/5\n",
      "21/21 [==============================] - 2s 53ms/step - loss: 9667.1133 - accuracy: 0.2138 - val_loss: 1873.1576 - val_accuracy: 0.2680\n",
      "Epoch 2/5\n",
      "21/21 [==============================] - 1s 46ms/step - loss: 1604.7672 - accuracy: 0.4524 - val_loss: 1268.1437 - val_accuracy: 0.3520\n",
      "Epoch 3/5\n",
      "21/21 [==============================] - 1s 48ms/step - loss: 449.2387 - accuracy: 0.5593 - val_loss: 483.9841 - val_accuracy: 0.3680\n",
      "Epoch 4/5\n",
      "21/21 [==============================] - 1s 47ms/step - loss: 344.6037 - accuracy: 0.6251 - val_loss: 622.9442 - val_accuracy: 0.3800\n",
      "Epoch 5/5\n",
      "21/21 [==============================] - 1s 42ms/step - loss: 322.4817 - accuracy: 0.5809 - val_loss: 829.1642 - val_accuracy: 0.3560\n"
     ]
    },
    {
     "data": {
      "text/plain": [
       "<keras.callbacks.History at 0x2481accebb0>"
      ]
     },
     "execution_count": 7,
     "metadata": {},
     "output_type": "execute_result"
    }
   ],
   "source": [
    "model.fit(train_images,train_labels,epochs=5,validation_data = (test_images,test_labels), batch_size=64)"
   ]
  }
 ],
 "metadata": {
  "interpreter": {
   "hash": "fd535986baca5ae30f2b2ed88164e16170da03347d13abf1eaf995efa0d51ce8"
  },
  "kernelspec": {
   "display_name": "Python 3.9.7 ('base')",
   "language": "python",
   "name": "python3"
  },
  "language_info": {
   "codemirror_mode": {
    "name": "ipython",
    "version": 3
   },
   "file_extension": ".py",
   "mimetype": "text/x-python",
   "name": "python",
   "nbconvert_exporter": "python",
   "pygments_lexer": "ipython3",
   "version": "3.8.12"
  },
  "orig_nbformat": 4
 },
 "nbformat": 4,
 "nbformat_minor": 2
}
