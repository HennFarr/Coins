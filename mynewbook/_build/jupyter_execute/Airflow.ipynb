{
 "cells": [
  {
   "cell_type": "markdown",
   "metadata": {},
   "source": [
    "# Apache Airflow"
   ]
  },
  {
   "cell_type": "markdown",
   "metadata": {},
   "source": [
    "1. Installieren und Inzialisieren von Airflow nach Tutorial in der Vorlesung.\n",
    "2. Erstellen einer DAG-Datei\n",
    "3. Erstellen einzelnen Schritte"
   ]
  },
  {
   "cell_type": "markdown",
   "metadata": {},
   "source": [
    "In unserem Fall haben wir Apache Airflow dazu genutzt, das Abspeichern von neuen Bildern zur Verbesserung unseres Modells, zu Automatisieren."
   ]
  },
  {
   "cell_type": "markdown",
   "metadata": {},
   "source": [
    "## DAG-Datei"
   ]
  },
  {
   "cell_type": "markdown",
   "metadata": {},
   "source": [
    "In unserem Fall läuft das Funktion täglich einmal. Optimal wäre es wenn die Funktion immer dann ausgeführt wird, wenn unser Modell zu oft schlecht ausfällt"
   ]
  },
  {
   "cell_type": "code",
   "execution_count": 1,
   "metadata": {},
   "outputs": [
    {
     "ename": "ModuleNotFoundError",
     "evalue": "No module named 'airflow'",
     "output_type": "error",
     "traceback": [
      "\u001b[1;31m---------------------------------------------------------------------------\u001b[0m",
      "\u001b[1;31mModuleNotFoundError\u001b[0m                       Traceback (most recent call last)",
      "Input \u001b[1;32mIn [1]\u001b[0m, in \u001b[0;36m<cell line: 4>\u001b[1;34m()\u001b[0m\n\u001b[0;32m      1\u001b[0m \u001b[38;5;66;03m#---------------------------------------\u001b[39;00m\n\u001b[0;32m      2\u001b[0m \u001b[38;5;66;03m# SETUP\u001b[39;00m\n\u001b[1;32m----> 4\u001b[0m \u001b[38;5;28;01mfrom\u001b[39;00m \u001b[38;5;21;01mairflow\u001b[39;00m \u001b[38;5;28;01mimport\u001b[39;00m DAG\n\u001b[0;32m      5\u001b[0m \u001b[38;5;28;01mfrom\u001b[39;00m \u001b[38;5;21;01mairflow\u001b[39;00m\u001b[38;5;21;01m.\u001b[39;00m\u001b[38;5;21;01moperators\u001b[39;00m\u001b[38;5;21;01m.\u001b[39;00m\u001b[38;5;21;01mbash\u001b[39;00m \u001b[38;5;28;01mimport\u001b[39;00m BashOperator\n\u001b[0;32m      6\u001b[0m \u001b[38;5;28;01mfrom\u001b[39;00m \u001b[38;5;21;01mdatetime\u001b[39;00m \u001b[38;5;28;01mimport\u001b[39;00m datetime, timedelta\n",
      "\u001b[1;31mModuleNotFoundError\u001b[0m: No module named 'airflow'"
     ]
    }
   ],
   "source": [
    "#---------------------------------------\n",
    "# SETUP\n",
    "\n",
    "from airflow import DAG\n",
    "from airflow.operators.bash import BashOperator\n",
    "from datetime import datetime, timedelta\n",
    "\n",
    "#---------------------------------------\n",
    "\n",
    "\n",
    "# DEFAULT DAG ARGUMENTS\n",
    "\n",
    "with DAG(\n",
    "    'my_dag', \n",
    "    default_args={\n",
    "        'depends_on_past': False,\n",
    "        'email': ['my-email@example.com'],\n",
    "        'email_on_failure': False,\n",
    "        'email_on_retry': False,\n",
    "        'retries': 1,\n",
    "        'retry_delay': timedelta(minutes=5),\n",
    "    },\n",
    "    description='A simple DAG for Coin Model',\n",
    "    schedule_interval= '@daily',\n",
    "    start_date=datetime(2022, 6, 23),\n",
    "    catchup=False,\n",
    "\n",
    ") as dag:\n",
    "\n",
    "    #---------------------------------------\n",
    "\n",
    "    # DEFINE OPERATERS\n",
    "\n",
    "    #BashOperator for image_to_file\n",
    "    t1 = BashOperator(\n",
    "        depends_on_past=False,\n",
    "        task_id='image_to_file',\n",
    "        bash_command=\"python '/Users/Kim/Library/Mobile Documents/com~apple~CloudDocs/UNI/HdM/Semester6/DataScience&MLOps/airflow/dags/image_to_file.py'\",\n",
    "    )\n",
    "\n",
    "   #----------------\n",
    "\n",
    "    # SETTING UP DEPENDENCIES\n",
    "    t1"
   ]
  },
  {
   "cell_type": "markdown",
   "metadata": {},
   "source": [
    "## Funktion zum Speichern der Bilder"
   ]
  },
  {
   "cell_type": "code",
   "execution_count": null,
   "metadata": {},
   "outputs": [],
   "source": [
    "#---------------------------------------\n",
    "# SETUP\n",
    "\n",
    "import glob\n",
    "from PIL import Image\n",
    "import random\n",
    "import os\n",
    "\n",
    "#---------------------------------------\n",
    "\n",
    "path_to_new_extendet_dataset = '/Users/Kim/Library/Mobile Documents/com~apple~CloudDocs/UNI/HdM/Semester6/DataScience&MLOps/Coins/new_extended_dataset/original'\n",
    "\n",
    "for filename in glob.glob(\"/Users/Kim/Library/Mobile Documents/com~apple~CloudDocs/UNI/HdM/Semester6/DataScience&MLOps/airflow/dags/*.jpg\"):\n",
    "    filename_splited = filename.split('/')\n",
    "    filename_split = filename_splited[-1].split('.')\n",
    "    for foldername in glob.glob(path_to_new_extendet_dataset+'/*'):\n",
    "        foldername_split = foldername.split('/')\n",
    "        if filename_split[0] == foldername_split[-1]:\n",
    "            random_number = str(random.randint(0,10000))\n",
    "            img = Image.open(filename)\n",
    "            class_modell = str(filename_splited[-1])\n",
    "            img = img.save(foldername+'/'+random_number+'_'+class_modell)\n",
    "    os.remove(filename)\n"
   ]
  }
 ],
 "metadata": {
  "kernelspec": {
   "display_name": "Python 3.9.12 ('mlops')",
   "language": "python",
   "name": "python3"
  },
  "language_info": {
   "codemirror_mode": {
    "name": "ipython",
    "version": 3
   },
   "file_extension": ".py",
   "mimetype": "text/x-python",
   "name": "python",
   "nbconvert_exporter": "python",
   "pygments_lexer": "ipython3",
   "version": "3.8.12"
  },
  "vscode": {
   "interpreter": {
    "hash": "e4097c64d94c5b44aa96706a47b357d91e727b3cbacdc6414ea202e6f06a3d71"
   }
  }
 },
 "nbformat": 4,
 "nbformat_minor": 2
}