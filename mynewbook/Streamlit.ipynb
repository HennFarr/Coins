{
 "cells": [
  {
   "cell_type": "markdown",
   "metadata": {},
   "source": [
    "# Streamlit App"
   ]
  },
  {
   "cell_type": "markdown",
   "metadata": {},
   "source": [
    "Die Streamlit App ist in verschiedene Unterseiten aufgeteilt. Auf der Seite \"One Coin\" kann man die Prediction für eine Münze bekommen und auf der \"Multiple Coin\" kann man die Predicition für mehrere Münze bekommen. "
   ]
  },
  {
   "cell_type": "markdown",
   "metadata": {},
   "source": [
    "## Eine Münze"
   ]
  },
  {
   "cell_type": "markdown",
   "metadata": {},
   "source": [
    "### Darstellung"
   ]
  },
  {
   "cell_type": "markdown",
   "metadata": {},
   "source": [
    "1. Hochladen eines Fotos"
   ]
  },
  {
   "cell_type": "markdown",
   "metadata": {},
   "source": [
    "![Upload Fotot](upload_foto.png)"
   ]
  },
  {
   "cell_type": "markdown",
   "metadata": {},
   "source": [
    "2. Predcition der Münze\n"
   ]
  },
  {
   "cell_type": "markdown",
   "metadata": {},
   "source": [
    "![Predicition Münze](predicition_one_coin.png)"
   ]
  },
  {
   "cell_type": "markdown",
   "metadata": {},
   "source": [
    "### Code"
   ]
  },
  {
   "cell_type": "markdown",
   "metadata": {},
   "source": [
    "Das Setup/Imports"
   ]
  },
  {
   "cell_type": "code",
   "execution_count": null,
   "metadata": {},
   "outputs": [],
   "source": [
    "import streamlit as slit\n",
    "import numpy as np\n",
    "import tensorflow as tf\n",
    "from tensorflow import keras\n",
    "import keras.preprocessing.image\n",
    "from keras.preprocessing.image import img_to_array\n",
    "import numpy as np\n",
    "import io\n",
    "import os\n",
    "from PIL import Image\n",
    "import cv2\n",
    "import matplotlib.pyplot as plt"
   ]
  },
  {
   "cell_type": "markdown",
   "metadata": {},
   "source": [
    "Laden des Fotos "
   ]
  },
  {
   "cell_type": "code",
   "execution_count": null,
   "metadata": {},
   "outputs": [],
   "source": [
    "def load_image():\n",
    "    uploaded_file = slit.file_uploader(label='Pick an image')\n",
    "    if uploaded_file is not None:\n",
    "        image_data = uploaded_file.getvalue()\n",
    "        slit.image(image_data)\n",
    "        image_stream = io.BytesIO(image_data)\n",
    "        return image_stream \n",
    "    else:\n",
    "        return None"
   ]
  },
  {
   "cell_type": "markdown",
   "metadata": {},
   "source": [
    "Laden des Modells"
   ]
  },
  {
   "cell_type": "code",
   "execution_count": null,
   "metadata": {},
   "outputs": [],
   "source": [
    "def load_model():\n",
    "    model_path = '/Users/Kim/Library/Mobile Documents/com~apple~CloudDocs/UNI/HdM/Semester6/DataScience&MLOps/Coins/Models/Tuned/tuned_model'\n",
    "    model = keras.models.load_model(model_path)\n",
    "    return model"
   ]
  },
  {
   "cell_type": "markdown",
   "metadata": {},
   "source": [
    "Funktion für die Prediction der Münze\n",
    "- Resizing des Fotos und umwandeln zum Array\n",
    "- Prediction übers Modell\n",
    "- Print Klassifikation und Prediciton der Münze\n",
    "- Return Klassifikation"
   ]
  },
  {
   "cell_type": "code",
   "execution_count": null,
   "metadata": {},
   "outputs": [],
   "source": [
    "def predict_one_Coin (model, image):\n",
    "    img = Image.open(image)\n",
    "    test_image = img.resize((200,200))\n",
    "    input_arr = tf.keras.preprocessing.image.img_to_array(test_image)\n",
    "\n",
    "    test_image = np.expand_dims(input_arr, axis=0)\n",
    "\n",
    "    prediction = model.predict(test_image)\n",
    "    class_names=[\"1c\", \"2c\", \"5c\", \"10c\", \"20c\", \"50c\", \"1e\", \"2e\"]\n",
    "\n",
    "    slit.write(f\"{class_names[np.argmax(prediction)]} with a { (100 * np.max(prediction)).round(2) } % prediction.\")\n",
    "    \n",
    "    file_name = str(class_names[np.argmax(prediction)])\n",
    "    return file_name"
   ]
  },
  {
   "cell_type": "markdown",
   "metadata": {},
   "source": [
    "Layout/Aufbau der Streamlit App\n",
    "- Laden des Fotos\n",
    "- Laden des Modells\n",
    "- Prediciton der Münze \n",
    "- Abspeichern des Bildes wenn prediciton richtig"
   ]
  },
  {
   "cell_type": "code",
   "execution_count": null,
   "metadata": {},
   "outputs": [],
   "source": [
    "def main():\n",
    "    slit.set_page_config(page_title=\"One Coin\")\n",
    "    slit.title('One Coin')\n",
    "    slit.title('Image upload')\n",
    "    image = load_image()\n",
    "    model = load_model()\n",
    "    if image != None:\n",
    "        slit.write('Calculating results...')\n",
    "        predicted = predict_one_Coin(model, image)\n",
    "        result = slit.button('Press when Prediction was right')\n",
    "        if result:\n",
    "            img = Image.open(image)\n",
    "            img.save('/Users/Kim/Library/Mobile Documents/com~apple~CloudDocs/UNI/HdM/Semester6/DataScience&MLOps/airflow/dags/'+predicted+'.jpg')\n",
    "            slit.success('File Saved')\n",
    "\n",
    "if __name__ == '__main__':\n",
    "    main()"
   ]
  },
  {
   "cell_type": "markdown",
   "metadata": {},
   "source": [
    "## Mehrere Münzen"
   ]
  },
  {
   "cell_type": "markdown",
   "metadata": {},
   "source": [
    "### Darstellung"
   ]
  },
  {
   "cell_type": "markdown",
   "metadata": {},
   "source": [
    "1. Hochladen des Fotos"
   ]
  },
  {
   "cell_type": "markdown",
   "metadata": {},
   "source": [
    "![Upload Picture](upload_foto.png)"
   ]
  },
  {
   "cell_type": "markdown",
   "metadata": {},
   "source": [
    "2. Predicition der einzelnen Münzen"
   ]
  },
  {
   "cell_type": "markdown",
   "metadata": {},
   "source": [
    "![Predicition Multiple Coins](prediction_multpile_coins.png)"
   ]
  },
  {
   "cell_type": "markdown",
   "metadata": {},
   "source": [
    "### Code"
   ]
  },
  {
   "cell_type": "markdown",
   "metadata": {},
   "source": [
    "Das Setup/Imports"
   ]
  },
  {
   "cell_type": "code",
   "execution_count": null,
   "metadata": {},
   "outputs": [],
   "source": [
    "import streamlit as slit\n",
    "import numpy as np\n",
    "import tensorflow as tf\n",
    "from tensorflow import keras\n",
    "import keras.preprocessing.image\n",
    "from keras.preprocessing.image import img_to_array\n",
    "import numpy as np\n",
    "import io\n",
    "import os\n",
    "from PIL import Image\n",
    "import cv2\n",
    "import matplotlib.pyplot as plt"
   ]
  },
  {
   "cell_type": "markdown",
   "metadata": {},
   "source": [
    "Laden des Fotos"
   ]
  },
  {
   "cell_type": "code",
   "execution_count": null,
   "metadata": {},
   "outputs": [],
   "source": [
    "def load_image():\n",
    "    uploaded_file = slit.file_uploader(label='Pick an image')\n",
    "    if uploaded_file is not None:\n",
    "        image_data = uploaded_file.getvalue()\n",
    "        slit.image(image_data)\n",
    "        image_stream = io.BytesIO(image_data)\n",
    "        return image_stream \n",
    "    else:\n",
    "        return None"
   ]
  },
  {
   "cell_type": "markdown",
   "metadata": {},
   "source": [
    "Laden des Modells"
   ]
  },
  {
   "cell_type": "code",
   "execution_count": null,
   "metadata": {},
   "outputs": [],
   "source": [
    "def load_model():\n",
    "    model_path = '/Users/Kim/Library/Mobile Documents/com~apple~CloudDocs/UNI/HdM/Semester6/DataScience&MLOps/Coins/Models/Tuned/tuned_model'\n",
    "    model = keras.models.load_model(model_path)\n",
    "    return model"
   ]
  },
  {
   "cell_type": "markdown",
   "metadata": {},
   "source": [
    "Eine Funktion um bei der suche nach den Münzen zu helfen"
   ]
  },
  {
   "cell_type": "code",
   "execution_count": null,
   "metadata": {},
   "outputs": [],
   "source": [
    "def adjust_gamma(image, gamma=1.0):\n",
    "   invGamma = 1.0 / gamma\n",
    "   table = np.array([((i / 255.0) ** invGamma) * 255\n",
    "      for i in np.arange(0, 256)]).astype(\"uint8\")\n",
    "   return cv2.LUT(image, table)"
   ]
  },
  {
   "cell_type": "markdown",
   "metadata": {},
   "source": [
    "Funktion um die Münzen zu finden mit CV2"
   ]
  },
  {
   "cell_type": "code",
   "execution_count": null,
   "metadata": {},
   "outputs": [],
   "source": [
    "def findCoins(img, showCoins = False):\n",
    "    scaling = 600.0/max(img.shape[0:2])\n",
    "    img_gray = cv2.resize(img, None, fx=scaling, fy=scaling)\n",
    "    img_gray = cv2.cvtColor(img_gray, cv2.COLOR_BGR2GRAY)\n",
    "    img_gray = cv2.blur(img_gray, (5,5))\n",
    "    coins = cv2.HoughCircles(img_gray, cv2.HOUGH_GRADIENT, 1.2, 30, param2 = 35, minRadius = 20, maxRadius = 50)\n",
    "    coins = (np.round(coins[0,:]) / scaling).astype(\"int\")\n",
    "    return coins"
   ]
  },
  {
   "cell_type": "markdown",
   "metadata": {},
   "source": [
    "Prediciton der Münzen\n",
    "- Preprocessing des Fotos\n",
    "- Finden der Münzen, mit hilfe der Funktionen\n",
    "- Prediction der einzelnen Begrenzungen(wo Münzen gefunden wurden), also Prediciton der einzelnen Münzen\n",
    "- Output der Prediction auf dem Foto\n",
    "- Speichern des Plots zur Darstellung in Streamlit"
   ]
  },
  {
   "cell_type": "code",
   "execution_count": null,
   "metadata": {},
   "outputs": [],
   "source": [
    "def predict_more_Coin (model, image):\n",
    "    img = cv2.imdecode(np.frombuffer(image.read(), np.uint8), 1)\n",
    "    img = cv2.cvtColor(img, cv2.COLOR_BGR2RGB)\n",
    "    coins = findCoins(img, showCoins = True)\n",
    "    maxRadius = np.amax(coins,0)[2]+10\n",
    "\n",
    "    class_names=[\"1c\", \"2c\", \"5c\", \"10c\", \"20c\", \"50c\", \"1e\", \"2e\"]\n",
    "\n",
    "    clone = img.copy()\n",
    "    \n",
    "    for i,(x,y,r) in enumerate(coins):\n",
    "        img_coin = img[y-maxRadius:y+maxRadius, x-maxRadius:x+maxRadius]\n",
    "        if img_coin.shape[0]==0 or img_coin.shape[1]==0:\n",
    "            continue\n",
    "\n",
    "        img_coin = cv2.resize(img_coin, (200,200))\n",
    "        img_x = adjust_gamma(img_coin, gamma=1)\n",
    "        img_x = img_to_array(img_x)                    \n",
    "        img_x = img_x.reshape((1,) + img_x.shape)\n",
    "\n",
    "        s_prediction = model.predict(img_x)\n",
    "        pred = f\"{class_names[np.argmax(s_prediction)]} with { (100 * np.max(s_prediction)).round(2) } % acc\"\n",
    "\n",
    "        cv2.rectangle(clone, (x-maxRadius, y-maxRadius), (x+maxRadius, y+maxRadius),(0,100,0), 5)\n",
    "        cv2.rectangle(clone,(x-maxRadius, y-maxRadius),(x+maxRadius-20,y-maxRadius-50),(0,100,0),-1)\n",
    "        cv2.putText(clone, pred, (x-maxRadius, y-maxRadius-10),cv2.FONT_HERSHEY_SIMPLEX, 1.5, (0, 0, 0), 2)\n",
    "        \n",
    "    plt.figure(figsize=(30,40))\n",
    "    plt.xticks([])\n",
    "    plt.yticks([])\n",
    "    plt.imshow(clone)\n",
    "    plt.savefig('xyz.png',dpi = 100 ,transparent=True)\n",
    "    slit.image('xyz.png')\n",
    "    os.remove('xyz.png')"
   ]
  },
  {
   "cell_type": "markdown",
   "metadata": {},
   "source": [
    "Aufbau/Layout der Multiple Coin Seite\n",
    "- Laden Foto\n",
    "- Laden Modell\n",
    "- Prediction und Erkennung der Münzen"
   ]
  },
  {
   "cell_type": "code",
   "execution_count": null,
   "metadata": {},
   "outputs": [],
   "source": [
    "def main():\n",
    "    slit.title('Image upload')\n",
    "    image = load_image()\n",
    "    model = load_model()\n",
    "    if image != None:\n",
    "        slit.write('Calculating results...')\n",
    "        predicted = predict_more_Coin(model, image)\n",
    "\n",
    "if __name__ == '__main__':\n",
    "    main()"
   ]
  }
 ],
 "metadata": {
  "kernelspec": {
   "display_name": "Python 3.9.12 ('mlops')",
   "language": "python",
   "name": "python3"
  },
  "language_info": {
   "codemirror_mode": {
    "name": "ipython",
    "version": 3
   },
   "file_extension": ".py",
   "mimetype": "text/x-python",
   "name": "python",
   "nbconvert_exporter": "python",
   "pygments_lexer": "ipython3",
   "version": "3.9.12"
  },
  "orig_nbformat": 4,
  "vscode": {
   "interpreter": {
    "hash": "e4097c64d94c5b44aa96706a47b357d91e727b3cbacdc6414ea202e6f06a3d71"
   }
  }
 },
 "nbformat": 4,
 "nbformat_minor": 2
}
